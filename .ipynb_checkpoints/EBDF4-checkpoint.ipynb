{
 "cells": [
  {
   "cell_type": "code",
   "execution_count": 1,
   "metadata": {
    "ExecuteTime": {
     "end_time": "2019-11-20T06:48:23.268925Z",
     "start_time": "2019-11-20T06:48:20.738288Z"
    },
    "code_folding": [
     0
    ]
   },
   "outputs": [],
   "source": [
    "#imports \n",
    "import numpy as np\n",
    "import matplotlib.pyplot as plt\n",
    "import cv2\n",
    "import png\n",
    "import os\n",
    "import PIL\n",
    "from PIL import Image\n",
    "from hd_multiLayerNN import *\n",
    "from sklearn.model_selection import train_test_split\n",
    "%matplotlib inline"
   ]
  },
  {
   "cell_type": "code",
   "execution_count": 2,
   "metadata": {
    "ExecuteTime": {
     "end_time": "2019-11-20T06:48:23.311899Z",
     "start_time": "2019-11-20T06:48:23.272923Z"
    },
    "code_folding": [
     0
    ]
   },
   "outputs": [],
   "source": [
    "#Functions\n",
    "\n",
    "def adjacentPixels(img, P):\n",
    "    ''' Returns list of adjacent pixel which are black'''\n",
    "    row = P[0]\n",
    "    col = P[1]\n",
    "    res = []\n",
    "    if(img[row-1][col-1] == 0):\n",
    "        res.append((row-1,col-1))\n",
    "    if(img[row-1][col] == 0):\n",
    "        res.append((row-1,col))\n",
    "    if(img[row-1][col+1] == 0):\n",
    "        res.append((row-1,col+1))\n",
    "    if(img[row][col-1] == 0):\n",
    "        res.append((row,col-1))\n",
    "    if(img[row][col+1] == 0):\n",
    "        res.append((row,col+1))\n",
    "    return res\n",
    "\n",
    "def pixelsAtDistanceL(img, P, l):\n",
    "    '''Returns a list of pixels which can be reach by \n",
    "    travelling l distance (horizontal,vertical,diagonal)\n",
    "    It also returning path where already visited pixel is\n",
    "    visted again. '''\n",
    "    if(l==0):\n",
    "        return [P]\n",
    "    res = []\n",
    "    for ap in adjacentPixels(img,P):\n",
    "        res.extend(pixelsAtDistanceL(img,ap,l-1))\n",
    "    return res\n",
    "\n",
    "def featureList(n):\n",
    "    '''Generates features as relative pixel values\n",
    "        for n => 5 + 4(n-2)'''\n",
    "    res = []\n",
    "    l = n-1\n",
    "    \n",
    "    for i in range(0,-l,-1):\n",
    "        res.append((i,-l))\n",
    "    \n",
    "    for i in range(-l,l+1):\n",
    "        res.append((-l,i))\n",
    "        \n",
    "    for i in range(-l+1,1):\n",
    "        res.append((i,l))\n",
    "    \n",
    "    return res\n",
    "\n",
    "\n",
    "def edgeBasedDirectionalFeature(img,n):\n",
    "    '''For a given img (should have binary pixel value 0 and 255) and \n",
    "    edge length n it will generate feature vector.'''\n",
    "    features = featureList(n)\n",
    "    res = dict()\n",
    "    \n",
    "    for f in features:\n",
    "        res[f] = 0\n",
    "    \n",
    "    height = len(img)\n",
    "    width = len(img[0])\n",
    "    for row in range(n-1,height,4):\n",
    "        for col in range(n-1, width-n+1):\n",
    "            if(img[row][col]==0):\n",
    "                pixels = pixelsAtDistanceL(img,(row,col),n-1)\n",
    "                for pix in pixels:\n",
    "                    t1 = pix[0]-row\n",
    "                    t2 = pix[1]-col\n",
    "                    if((t1,t2) in features):\n",
    "                        res[(t1,t2)]+=1\n",
    "    result = list()\n",
    "    for f in features:\n",
    "        result.append(res[f])\n",
    "    return result\n",
    "    "
   ]
  },
  {
   "cell_type": "code",
   "execution_count": 3,
   "metadata": {
    "ExecuteTime": {
     "end_time": "2019-11-20T06:48:23.451019Z",
     "start_time": "2019-11-20T06:48:23.317894Z"
    },
    "code_folding": [
     4,
     14,
     23,
     46,
     67
    ]
   },
   "outputs": [],
   "source": [
    "#class\n",
    "class preprocessing:  \n",
    "    '''To preprocess the data'''\n",
    "    \n",
    "    def __init__(self,code=''):\n",
    "        self.dataFolderList = None\n",
    "        self.folderFileDict = {}\n",
    "        self.datapath = os.path.abspath(\"./data\")\n",
    "        self.comp_data_path = os.path.join(self.datapath,'../comp_data'+code)\n",
    "        self.edge_detected_data_path = os.path.join(self.datapath,'../edge_detected_data'+code)\n",
    "        self.data = []\n",
    "        self.target = []\n",
    "        self.folderFile()\n",
    "    \n",
    "    def folderFile(self):\n",
    "        '''Create dictionary with key as folder and items their respective files'''\n",
    "        self.dataFolderList = [f for f in os.listdir(self.datapath) if os.path.isdir(os.path.join(self.datapath, f))]\n",
    "        for folder in self.dataFolderList:\n",
    "            path = os.path.join(self.datapath, folder)\n",
    "            fileList = [f for f in os.listdir(path) if os.path.isfile(os.path.join(path, f))]\n",
    "            self.folderFileDict[folder] = fileList\n",
    "        print(\"Folder File dictionary created.\")\n",
    "        \n",
    "    def compress(self,baseheight = 64):\n",
    "        '''Compress all files with given height while maintaining the aspect ratio'''\n",
    "        \n",
    "        if(not os.path.exists(self.comp_data_path)):\n",
    "            os.mkdir(self.comp_data_path)\n",
    "            \n",
    "        for fol in self.folderFileDict.keys():\n",
    "            \n",
    "            folpath = os.path.join(self.datapath, fol)\n",
    "            tempfolpath = os.path.join(self.comp_data_path, fol)\n",
    "            \n",
    "            if(not os.path.exists(tempfolpath)):\n",
    "                os.mkdir(tempfolpath)\n",
    "                \n",
    "            for fname in self.folderFileDict[fol]:\n",
    "                if(fname.endswith('.png')):\n",
    "                    img = Image.open(os.path.join(folpath, fname))\n",
    "                    hpercent = (baseheight / float(img.size[1]))\n",
    "                    wsize = int((float(img.size[0]) * float(hpercent)))\n",
    "                    img = img.resize((wsize, baseheight), PIL.Image.ANTIALIAS)\n",
    "                    img.save(os.path.join(tempfolpath, fname))\n",
    "        print(\"Compression success!\")\n",
    "    \n",
    "    def detectEdge(self,x=300,y=300):\n",
    "        '''Detect edge in each image'''\n",
    "        if(not os.path.exists(self.edge_detected_data_path)):\n",
    "            os.mkdir(self.edge_detected_data_path)\n",
    "            \n",
    "        for fol in self.folderFileDict.keys():\n",
    "            \n",
    "            folpath = os.path.join(self.comp_data_path, fol)\n",
    "            tempfolpath = os.path.join(self.edge_detected_data_path, fol)\n",
    "            \n",
    "            if(not os.path.exists(tempfolpath)):\n",
    "                os.mkdir(tempfolpath)\n",
    "                \n",
    "            for fname in self.folderFileDict[fol]:\n",
    "                if(fname.endswith('.png')):\n",
    "                    img = cv2.imread(os.path.join(folpath, fname),0)\n",
    "                    edge = cv2.Canny(img,x,y)\n",
    "                    edgeinv = cv2.bitwise_not(edge)\n",
    "                    png.from_array(edgeinv,'L').save(os.path.join(tempfolpath, fname))\n",
    "        print(\"Edges detected successfully\")\n",
    "                    \n",
    "    def featureExtraction(self,n=4):\n",
    "        '''Generate feature vector for each image with edge length => n'''\n",
    "        if(not os.path.exists(self.edge_detected_data_path)):\n",
    "            print(\"Edge data not available\")\n",
    "            return None\n",
    "            \n",
    "        for fol in self.folderFileDict.keys():\n",
    "            \n",
    "            folpath = os.path.join(self.edge_detected_data_path, fol)\n",
    "            for fname in self.folderFileDict[fol]:\n",
    "                if(fname.endswith('.png')):\n",
    "                    img = cv2.imread(os.path.join(folpath, fname),0)\n",
    "                    self.data.append(edgeBasedDirectionalFeature(img,n))\n",
    "                    self.target.append(int(fol)-1)\n",
    "        print(\"Feature extraction done!!\")"
   ]
  },
  {
   "cell_type": "code",
   "execution_count": 6,
   "metadata": {
    "ExecuteTime": {
     "end_time": "2019-11-20T07:13:52.491728Z",
     "start_time": "2019-11-20T07:08:29.094956Z"
    },
    "code_folding": []
   },
   "outputs": [
    {
     "name": "stdout",
     "output_type": "stream",
     "text": [
      "Folder File dictionary created.\n",
      "Compression success!\n",
      "Edges detected successfully\n",
      "Feature extraction done!!\n"
     ]
    }
   ],
   "source": [
    "#preprocessing \n",
    "m = preprocessing(code='06')\n",
    "m.compress(80)\n",
    "m.detectEdge(300,300)\n",
    "m.featureExtraction(7)"
   ]
  },
  {
   "cell_type": "code",
   "execution_count": 7,
   "metadata": {
    "ExecuteTime": {
     "end_time": "2019-11-20T07:13:52.610149Z",
     "start_time": "2019-11-20T07:13:52.491728Z"
    }
   },
   "outputs": [],
   "source": [
    "#Saving data to npy\n",
    "X = np.array(m.data)\n",
    "y = np.array(m.target)\n",
    "np.save('./npy/data_80_300_300_7',X)\n",
    "np.save('./npy/target_80_300_300_7',y)"
   ]
  },
  {
   "cell_type": "code",
   "execution_count": null,
   "metadata": {
    "ExecuteTime": {
     "start_time": "2019-11-20T06:45:47.438Z"
    }
   },
   "outputs": [],
   "source": [
    "X_train, X_test, y_train, y_test = train_test_split(X, y, test_size=0.20, random_state=42)\n",
    "m1 = multilayerNN((13,100,5), 0.0005, 50)\n",
    "m1.train(X_train,y_train)\n",
    "pred = m1.predict(X_test)\n",
    "multilayerNN.report(y_test,pred)"
   ]
  }
 ],
 "metadata": {
  "kernelspec": {
   "display_name": "Python 3",
   "language": "python",
   "name": "python3"
  },
  "language_info": {
   "codemirror_mode": {
    "name": "ipython",
    "version": 3
   },
   "file_extension": ".py",
   "mimetype": "text/x-python",
   "name": "python",
   "nbconvert_exporter": "python",
   "pygments_lexer": "ipython3",
   "version": "3.7.3"
  }
 },
 "nbformat": 4,
 "nbformat_minor": 2
}
