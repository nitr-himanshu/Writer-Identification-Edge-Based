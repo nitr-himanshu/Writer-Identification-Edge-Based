{
 "cells": [
  {
   "cell_type": "code",
   "execution_count": 4,
   "metadata": {
    "ExecuteTime": {
     "end_time": "2020-01-16T11:33:59.071062Z",
     "start_time": "2020-01-16T11:33:59.064066Z"
    },
    "code_folding": [
     0
    ]
   },
   "outputs": [],
   "source": [
    "#imports \n",
    "import numpy as np\n",
    "import matplotlib.pyplot as plt\n",
    "import cv2\n",
    "import png\n",
    "import os\n",
    "import PIL\n",
    "from PIL import Image\n",
    "%matplotlib inline"
   ]
  },
  {
   "cell_type": "code",
   "execution_count": 5,
   "metadata": {
    "ExecuteTime": {
     "end_time": "2020-01-16T11:33:59.372377Z",
     "start_time": "2020-01-16T11:33:59.353390Z"
    },
    "code_folding": [
     1,
     18,
     30,
     47
    ]
   },
   "outputs": [],
   "source": [
    "#Functions\n",
    "def adjacentPixels(img, P):\n",
    "    ''' Returns list of adjacent pixel which are black'''\n",
    "    row = P[0]\n",
    "    col = P[1]\n",
    "    res = []\n",
    "    if(img[row-1][col-1] == 0):\n",
    "        res.append((row-1,col-1))\n",
    "    if(img[row-1][col] == 0):\n",
    "        res.append((row-1,col))\n",
    "    if(img[row-1][col+1] == 0):\n",
    "        res.append((row-1,col+1))\n",
    "    if(img[row][col-1] == 0):\n",
    "        res.append((row,col-1))\n",
    "    if(img[row][col+1] == 0):\n",
    "        res.append((row,col+1))\n",
    "    return res\n",
    "\n",
    "def pixelsAtDistanceL(img, P, l):\n",
    "    '''Returns a list of pixels which can be reach by \n",
    "    travelling l distance (horizontal,vertical,diagonal)\n",
    "    It also returning path where already visited pixel is\n",
    "    visted again. '''\n",
    "    if(l==0):\n",
    "        return [P]\n",
    "    res = []\n",
    "    for ap in adjacentPixels(img,P):\n",
    "        res.extend(pixelsAtDistanceL(img,ap,l-1))\n",
    "    return res\n",
    "\n",
    "def featureList(n):\n",
    "    '''Generates features as relative pixel values\n",
    "        for n => 5 + 4(n-2)'''\n",
    "    res = []\n",
    "    l = n-1\n",
    "    \n",
    "    for i in range(0,-l,-1):\n",
    "        res.append((i,-l))\n",
    "    \n",
    "    for i in range(-l,l+1):\n",
    "        res.append((-l,i))\n",
    "        \n",
    "    for i in range(-l+1,1):\n",
    "        res.append((i,l))\n",
    "    \n",
    "    return res\n",
    "\n",
    "def edgeBasedDirectionalFeature(img,n):\n",
    "    '''For a given image matrix (should have binary pixel value 0 and 255) and \n",
    "    edge length n it will generate feature vector.'''\n",
    "    features = featureList(n)\n",
    "    res = dict()\n",
    "    \n",
    "    for f in features:\n",
    "        res[f] = 0\n",
    "    \n",
    "    height = len(img)\n",
    "    width = len(img[0])\n",
    "    for row in range(n-1,height,4):\n",
    "        for col in range(n-1, width-n+1):\n",
    "            if(img[row][col]==0):\n",
    "                pixels = pixelsAtDistanceL(img,(row,col),n-1)\n",
    "                for pix in pixels:\n",
    "                    t1 = pix[0]-row\n",
    "                    t2 = pix[1]-col\n",
    "                    if((t1,t2) in features):\n",
    "                        res[(t1,t2)]+=1\n",
    "    result = list()\n",
    "    for f in features:\n",
    "        result.append(res[f])\n",
    "    return result\n",
    "    "
   ]
  },
  {
   "cell_type": "code",
   "execution_count": 6,
   "metadata": {
    "ExecuteTime": {
     "end_time": "2020-01-16T11:34:00.645776Z",
     "start_time": "2020-01-16T11:34:00.615794Z"
    },
    "code_folding": [
     0,
     3,
     16,
     25,
     47
    ]
   },
   "outputs": [],
   "source": [
    "#class\n",
    "class preprocessing:  \n",
    "    \n",
    "    def __init__(self,data_path, code=''):\n",
    "        self.dataFolderList = None\n",
    "        self.folderFileDict = {}\n",
    "        self.datapath = data_path\n",
    "        self.temp_data_path = os.path.join(self.datapath,'../tempEBDF'+code)\n",
    "        if(not os.path.exists(self.temp_data_path)):\n",
    "            os.mkdir(self.temp_data_path)\n",
    "        self.comp_data_path = os.path.join(self.temp_data_path,'./comp_data')\n",
    "        self.edge_detected_data_path = os.path.join(self.temp_data_path,'./edge_detected_data')\n",
    "        self.data = []\n",
    "        self.target = []\n",
    "        self.folderFile()\n",
    "    \n",
    "    def folderFile(self):\n",
    "        '''Create dictionary with key as folder and items their respective files'''\n",
    "        self.dataFolderList = [f for f in os.listdir(self.datapath) if os.path.isdir(os.path.join(self.datapath, f))]\n",
    "        for folder in self.dataFolderList:\n",
    "            path = os.path.join(self.datapath, folder)\n",
    "            fileList = [f for f in os.listdir(path) if os.path.isfile(os.path.join(path, f))]\n",
    "            self.folderFileDict[folder] = fileList\n",
    "        print(\"Folder File dictionary created.\")\n",
    "        \n",
    "    def compress(self,baseheight = 64):\n",
    "        '''Compress all files with given height while maintaining the aspect ratio'''\n",
    "        \n",
    "        if(not os.path.exists(self.comp_data_path)):\n",
    "            os.mkdir(self.comp_data_path)\n",
    "        for fol in self.folderFileDict.keys():\n",
    "            \n",
    "            folpath = os.path.join(self.datapath, fol)\n",
    "            tempfolpath = os.path.join(self.comp_data_path, fol)\n",
    "            \n",
    "            if(not os.path.exists(tempfolpath)):\n",
    "                os.mkdir(tempfolpath)\n",
    "                \n",
    "            for fname in self.folderFileDict[fol]:\n",
    "                if(fname.endswith('.png')):\n",
    "                    img = Image.open(os.path.join(folpath, fname))\n",
    "                    hpercent = (baseheight / float(img.size[1]))\n",
    "                    wsize = int((float(img.size[0]) * float(hpercent)))\n",
    "                    img = img.resize((wsize, baseheight), PIL.Image.ANTIALIAS)\n",
    "                    img.save(os.path.join(tempfolpath, fname))\n",
    "        print(\"Compression success!\")\n",
    "    \n",
    "    def detectEdge(self,x=300,y=300):\n",
    "        '''Detect edge in each image'''\n",
    "        if(not os.path.exists(self.edge_detected_data_path)):\n",
    "            os.mkdir(self.edge_detected_data_path)\n",
    "            \n",
    "        for fol in self.folderFileDict.keys():\n",
    "            \n",
    "            folpath = os.path.join(self.comp_data_path, fol)\n",
    "            tempfolpath = os.path.join(self.edge_detected_data_path, fol)\n",
    "            \n",
    "            if(not os.path.exists(tempfolpath)):\n",
    "                os.mkdir(tempfolpath)\n",
    "                \n",
    "            for fname in self.folderFileDict[fol]:\n",
    "                if(fname.endswith('.png')):\n",
    "                    img = cv2.imread(os.path.join(folpath, fname),0)\n",
    "                    edge = cv2.Canny(img,x,y)\n",
    "                    edgeinv = cv2.bitwise_not(edge)\n",
    "                    png.from_array(edgeinv,'L').save(os.path.join(tempfolpath, fname))\n",
    "        print(\"Edges detected successfully\")\n",
    "                    \n",
    "    def featureExtraction(self,n=4):\n",
    "        '''Generate feature vector for each image with edge length => n'''\n",
    "        if(not os.path.exists(self.edge_detected_data_path)):\n",
    "            print(\"Edge data not available\")\n",
    "            return None\n",
    "            \n",
    "        for fol in self.folderFileDict.keys():\n",
    "            \n",
    "            folpath = os.path.join(self.edge_detected_data_path, fol)\n",
    "            for fname in self.folderFileDict[fol]:\n",
    "                if(fname.endswith('.png')):\n",
    "                    img = cv2.imread(os.path.join(folpath, fname),0)\n",
    "                    self.data.append(edgeBasedDirectionalFeature(img,n))\n",
    "                    self.target.append(int(fol)-1)\n",
    "        self.data = np.array(self.data)\n",
    "        self.target = np.array(self.target)\n",
    "        print(\"Feature extraction done!!\")"
   ]
  },
  {
   "cell_type": "code",
   "execution_count": 7,
   "metadata": {
    "ExecuteTime": {
     "end_time": "2020-01-16T13:57:21.556285Z",
     "start_time": "2020-01-16T11:34:06.215524Z"
    },
    "code_folding": []
   },
   "outputs": [
    {
     "name": "stdout",
     "output_type": "stream",
     "text": [
      "Folder File dictionary created.\n",
      "Compression success!\n",
      "Edges detected successfully\n",
      "Feature extraction done!!\n"
     ]
    }
   ],
   "source": [
    "#preprocessing \n",
    "m = preprocessing(data_path=\"/media/himanshu/C2B05102B050FDFB/dataset/exp/words_all_comp_128\",code='EBDF_all_a')\n",
    "m.compress(64)\n",
    "m.detectEdge(200,200)\n",
    "m.featureExtraction(4)"
   ]
  },
  {
   "cell_type": "code",
   "execution_count": 8,
   "metadata": {
    "ExecuteTime": {
     "end_time": "2020-01-16T13:57:22.619211Z",
     "start_time": "2020-01-16T13:57:21.650033Z"
    }
   },
   "outputs": [],
   "source": [
    "#Saving data to npy\n",
    "np.savez_compressed('/media/himanshu/C2B05102B050FDFB/dataset/exp/npy/ebdf_all_a',data = m.data,target = m.target)"
   ]
  }
 ],
 "metadata": {
  "kernelspec": {
   "display_name": "Python 3",
   "language": "python",
   "name": "python3"
  },
  "language_info": {
   "codemirror_mode": {
    "name": "ipython",
    "version": 3
   },
   "file_extension": ".py",
   "mimetype": "text/x-python",
   "name": "python",
   "nbconvert_exporter": "python",
   "pygments_lexer": "ipython3",
   "version": "3.7.4"
  }
 },
 "nbformat": 4,
 "nbformat_minor": 4
}
