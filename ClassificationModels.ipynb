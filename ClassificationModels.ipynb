{
 "cells": [
  {
   "cell_type": "code",
   "execution_count": 6,
   "metadata": {
    "ExecuteTime": {
     "end_time": "2019-11-28T14:50:23.285423Z",
     "start_time": "2019-11-28T14:50:23.276429Z"
    }
   },
   "outputs": [],
   "source": [
    "#imports \n",
    "import numpy as np\n",
    "from sklearn.model_selection import train_test_split\n",
    "from sklearn.metrics import accuracy_score\n",
    "%matplotlib inline"
   ]
  },
  {
   "cell_type": "code",
   "execution_count": 7,
   "metadata": {
    "ExecuteTime": {
     "end_time": "2019-11-28T14:50:23.868003Z",
     "start_time": "2019-11-28T14:50:23.850015Z"
    }
   },
   "outputs": [
    {
     "name": "stdout",
     "output_type": "stream",
     "text": [
      "(322, 13)\n",
      "(322,)\n"
     ]
    }
   ],
   "source": [
    "#reading data\n",
    "X = np.load('./npy/data_5_1_a.npy')\n",
    "y = np.load('./npy/target_5_1_a.npy')\n",
    "X_train, X_test, y_train, y_test = train_test_split(X,y, test_size=0.2, random_state = 0)\n",
    "print(X.shape)\n",
    "print(y.shape)"
   ]
  },
  {
   "cell_type": "markdown",
   "metadata": {},
   "source": [
    "## Naive base classifier"
   ]
  },
  {
   "cell_type": "code",
   "execution_count": null,
   "metadata": {
    "ExecuteTime": {
     "end_time": "2019-11-28T14:08:36.145625Z",
     "start_time": "2019-11-28T14:08:36.127635Z"
    }
   },
   "outputs": [],
   "source": [
    "from sklearn.naive_bayes import MultinomialNB\n",
    "clf = MultinomialNB().fit(X_train, y_train)\n",
    "y_pred = clf.predict(X_test)\n",
    "print(accuracy_score(y_test, y_pred))"
   ]
  },
  {
   "cell_type": "markdown",
   "metadata": {},
   "source": [
    "## SVM"
   ]
  },
  {
   "cell_type": "code",
   "execution_count": null,
   "metadata": {
    "ExecuteTime": {
     "end_time": "2019-11-28T14:09:27.695128Z",
     "start_time": "2019-11-28T14:09:27.680136Z"
    }
   },
   "outputs": [],
   "source": [
    "from sklearn import svm\n",
    "clf = svm.SVC(gamma='scale')\n",
    "clf.fit(X_train, y_train)\n",
    "y_pred = clf.predict(X_test)\n",
    "print(accuracy_score(y_test, y_pred))"
   ]
  },
  {
   "cell_type": "markdown",
   "metadata": {
    "ExecuteTime": {
     "end_time": "2019-11-28T05:58:47.451602Z",
     "start_time": "2019-11-28T05:58:47.446603Z"
    }
   },
   "source": [
    "## KNN classifier"
   ]
  },
  {
   "cell_type": "code",
   "execution_count": null,
   "metadata": {
    "ExecuteTime": {
     "end_time": "2019-11-28T14:15:55.742616Z",
     "start_time": "2019-11-28T14:15:55.723630Z"
    }
   },
   "outputs": [],
   "source": [
    "from sklearn.neighbors import KNeighborsClassifier\n",
    "clf = KNeighborsClassifier(n_neighbors=9)\n",
    "clf.fit(X_train, y_train)\n",
    "y_pred = clf.predict(X_test)\n",
    "print(accuracy_score(y_test, y_pred))"
   ]
  },
  {
   "cell_type": "markdown",
   "metadata": {},
   "source": [
    "## Neural network"
   ]
  },
  {
   "cell_type": "code",
   "execution_count": null,
   "metadata": {
    "ExecuteTime": {
     "end_time": "2019-11-28T14:33:13.141422Z",
     "start_time": "2019-11-28T14:33:01.775497Z"
    }
   },
   "outputs": [],
   "source": [
    "from tensorflow.keras import layers, models\n",
    "from keras.callbacks import ModelCheckpoint\n",
    "\n",
    "#NN architecture\n",
    "model = models.Sequential()\n",
    "model.add(layers.Dense(100, input_dim=13, activation='relu'))\n",
    "model.add(layers.Dense(5, activation='softmax'))\n",
    "\n",
    "#model compile\n",
    "model.compile(optimizer='adam',\n",
    "              loss='sparse_categorical_crossentropy',\n",
    "              metrics=['accuracy'])\n",
    "\n",
    "\n",
    "filepath=\"./model/NN_100.hdf5\"\n",
    "checkpoint = ModelCheckpoint(filepath, monitor='val_acc', verbose=0, save_best_only=True, mode='max')\n",
    "callbacks_list = [checkpoint]\n",
    "\n",
    "#train model\n",
    "hist = model.fit(X_train, y_train,\n",
    "          callbacks=callbacks_list,\n",
    "          validation_data=(X_test,y_test),\n",
    "          epochs=200,\n",
    "         verbose=0)\n",
    "\n",
    "# load model\n",
    "model = models.load_model(filepath)\n",
    "\n",
    "# evaluate the model\n",
    "score = model.evaluate(X_test, y_test, verbose=0)\n",
    "print(\"%s: %f%%\" % (model.metrics_names[1], score[1]*100))"
   ]
  },
  {
   "cell_type": "code",
   "execution_count": null,
   "metadata": {
    "ExecuteTime": {
     "start_time": "2019-11-28T14:50:31.271Z"
    }
   },
   "outputs": [
    {
     "name": "stderr",
     "output_type": "stream",
     "text": [
      "Using TensorFlow backend.\n"
     ]
    },
    {
     "name": "stdout",
     "output_type": "stream",
     "text": [
      "WARNING:tensorflow:From C:\\Users\\shield\\Anaconda3\\lib\\site-packages\\tensorflow\\python\\ops\\init_ops.py:1251: calling VarianceScaling.__init__ (from tensorflow.python.ops.init_ops) with dtype is deprecated and will be removed in a future version.\n",
      "Instructions for updating:\n",
      "Call initializer instance with the dtype argument instead of passing it to the constructor\n",
      "WARNING:tensorflow:From C:\\Users\\shield\\Anaconda3\\lib\\site-packages\\tensorflow\\python\\ops\\init_ops.py:97: calling GlorotUniform.__init__ (from tensorflow.python.ops.init_ops) with dtype is deprecated and will be removed in a future version.\n",
      "Instructions for updating:\n",
      "Call initializer instance with the dtype argument instead of passing it to the constructor\n",
      "WARNING:tensorflow:From C:\\Users\\shield\\Anaconda3\\lib\\site-packages\\tensorflow\\python\\ops\\init_ops.py:97: calling Zeros.__init__ (from tensorflow.python.ops.init_ops) with dtype is deprecated and will be removed in a future version.\n",
      "Instructions for updating:\n",
      "Call initializer instance with the dtype argument instead of passing it to the constructor\n",
      "0 81.53846263885498\n",
      "1 81.53846263885498\n",
      "2 83.07692408561707\n",
      "3 83.07692408561707\n",
      "4 78.46153974533081\n",
      "5 81.53846263885498\n",
      "6 81.53846263885498\n",
      "7 81.53846263885498\n",
      "8 80.0000011920929\n",
      "9 76.92307829856873\n",
      "10 83.07692408561707\n",
      "11 78.46153974533081\n",
      "12 81.53846263885498\n",
      "13 80.0000011920929\n",
      "14 81.53846263885498\n"
     ]
    }
   ],
   "source": [
    "from tensorflow.keras import layers, models\n",
    "from keras.callbacks import ModelCheckpoint\n",
    "\n",
    "model_list = list()\n",
    "acc_list = list()\n",
    "\n",
    "for i in range(20):\n",
    "    #NN architecture\n",
    "    model = models.Sequential()\n",
    "    model.add(layers.Dense(100, input_dim=13, activation='relu'))\n",
    "    model.add(layers.Dense(5, activation='softmax'))\n",
    "\n",
    "    #model compile\n",
    "    model.compile(optimizer='adam',\n",
    "                  loss='sparse_categorical_crossentropy',\n",
    "                  metrics=['accuracy'])\n",
    "\n",
    "\n",
    "    filepath=\"./model/temp.hdf5\"\n",
    "    checkpoint = ModelCheckpoint(filepath, monitor='val_acc', verbose=0, save_best_only=True, mode='max')\n",
    "    callbacks_list = [checkpoint]\n",
    "\n",
    "    #train model\n",
    "    hist = model.fit(X_train, y_train,\n",
    "              callbacks=callbacks_list,\n",
    "              validation_data=(X_test,y_test),\n",
    "              epochs=200,\n",
    "             verbose=0)\n",
    "\n",
    "    # load model\n",
    "    model = models.load_model(filepath)\n",
    "    model_list.append(model)\n",
    "    \n",
    "    # evaluate the model\n",
    "    score = model.evaluate(X_test, y_test, verbose=0)\n",
    "    acc = score[1]*100\n",
    "    acc_list.append(acc)\n",
    "    \n",
    "    print(\"%s %s\" % (i,acc))\n",
    "\n",
    "i = acc_list.index(max(acc_list))\n",
    "best_model = model_list[i]\n",
    "best_model.save('./model/NN_100.hdf5')"
   ]
  }
 ],
 "metadata": {
  "kernelspec": {
   "display_name": "Python 3",
   "language": "python",
   "name": "python3"
  },
  "language_info": {
   "codemirror_mode": {
    "name": "ipython",
    "version": 3
   },
   "file_extension": ".py",
   "mimetype": "text/x-python",
   "name": "python",
   "nbconvert_exporter": "python",
   "pygments_lexer": "ipython3",
   "version": "3.7.3"
  }
 },
 "nbformat": 4,
 "nbformat_minor": 2
}
