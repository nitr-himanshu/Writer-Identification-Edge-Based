{
 "cells": [
  {
   "cell_type": "code",
   "execution_count": null,
   "metadata": {
    "ExecuteTime": {
     "end_time": "2019-12-02T18:37:30.459127Z",
     "start_time": "2019-12-02T18:37:30.448131Z"
    }
   },
   "outputs": [],
   "source": [
    "#imports \n",
    "import numpy as np\n",
    "from sklearn.model_selection import train_test_split\n",
    "from sklearn.metrics import accuracy_score\n",
    "%matplotlib inline"
   ]
  },
  {
   "cell_type": "code",
   "execution_count": null,
   "metadata": {
    "ExecuteTime": {
     "end_time": "2019-12-02T18:50:22.968014Z",
     "start_time": "2019-12-02T18:50:22.804593Z"
    }
   },
   "outputs": [],
   "source": [
    "#reading data\n",
    "X = np.load('./npy/data_5_4_a.npy')\n",
    "y = np.load('./npy/target_5_4_a.npy')\n",
    "X_train, X_test, y_train, y_test = train_test_split(X,y, test_size=0.2, random_state = 0)\n",
    "print(X.shape)\n",
    "print(y.shape)"
   ]
  },
  {
   "cell_type": "markdown",
   "metadata": {},
   "source": [
    "## Naive base classifier"
   ]
  },
  {
   "cell_type": "code",
   "execution_count": null,
   "metadata": {
    "ExecuteTime": {
     "end_time": "2019-12-02T18:37:32.144660Z",
     "start_time": "2019-12-02T18:37:31.928201Z"
    }
   },
   "outputs": [],
   "source": [
    "from sklearn.naive_bayes import MultinomialNB\n",
    "clf = MultinomialNB().fit(X_train, y_train)\n",
    "y_pred = clf.predict(X_test)\n",
    "print(accuracy_score(y_test, y_pred))"
   ]
  },
  {
   "cell_type": "markdown",
   "metadata": {},
   "source": [
    "\n",
    "## SVM"
   ]
  },
  {
   "cell_type": "code",
   "execution_count": null,
   "metadata": {
    "ExecuteTime": {
     "end_time": "2019-12-02T18:37:33.191461Z",
     "start_time": "2019-12-02T18:37:33.143491Z"
    }
   },
   "outputs": [],
   "source": [
    "from sklearn import svm\n",
    "clf = svm.SVC(gamma='scale')\n",
    "clf.fit(X_train, y_train)\n",
    "y_pred = clf.predict(X_test)\n",
    "print(accuracy_score(y_test, y_pred))"
   ]
  },
  {
   "cell_type": "markdown",
   "metadata": {
    "ExecuteTime": {
     "end_time": "2019-11-28T05:58:47.451602Z",
     "start_time": "2019-11-28T05:58:47.446603Z"
    }
   },
   "source": [
    "## KNN classifier"
   ]
  },
  {
   "cell_type": "code",
   "execution_count": null,
   "metadata": {
    "ExecuteTime": {
     "end_time": "2019-12-02T18:37:34.308597Z",
     "start_time": "2019-12-02T18:37:34.129126Z"
    },
    "code_folding": [
     1
    ]
   },
   "outputs": [],
   "source": [
    "from sklearn.neighbors import KNeighborsClassifier\n",
    "for i in range(1,11):\n",
    "    clf = KNeighborsClassifier(n_neighbors=i)\n",
    "    clf.fit(X_train, y_train)\n",
    "    y_pred = clf.predict(X_test)\n",
    "    print(accuracy_score(y_test, y_pred))"
   ]
  },
  {
   "cell_type": "markdown",
   "metadata": {},
   "source": [
    "## Neural network"
   ]
  },
  {
   "cell_type": "markdown",
   "metadata": {},
   "source": [
    "# for loop version"
   ]
  },
  {
   "cell_type": "code",
   "execution_count": null,
   "metadata": {
    "ExecuteTime": {
     "start_time": "2019-12-02T18:50:32.227Z"
    },
    "code_folding": []
   },
   "outputs": [],
   "source": [
    "# for loop \n",
    "from tensorflow.keras import layers, models\n",
    "from tensorflow.keras.callbacks import ModelCheckpoint\n",
    "\n",
    "model_list = list()\n",
    "acc_list = list()\n",
    "filepath = \"./model/5_4_a_NN_50_50.hdf5\"\n",
    "\n",
    "for i in range(10):\n",
    "    print(\"Iteration - \",i, end=\"\\t\\t\")\n",
    "    \n",
    "    #NN architecture\n",
    "    model = models.Sequential()\n",
    "    model.add(layers.Dense(50, input_dim=13, activation='relu'))\n",
    "    model.add(layers.Dense(50, activation='relu'))\n",
    "    model.add(layers.Dense(5, activation='softmax'))\n",
    "\n",
    "    #model compile\n",
    "    model.compile(optimizer='adam',\n",
    "                  loss='sparse_categorical_crossentropy',\n",
    "                  metrics=['accuracy'])\n",
    "\n",
    "\n",
    "    tempfilepath=\"./model/temp.hdf5\"\n",
    "    checkpoint = ModelCheckpoint(tempfilepath, monitor='val_acc', verbose=0, save_best_only=True, mode='max')\n",
    "    callbacks_list = [checkpoint]\n",
    "\n",
    "    #train model\n",
    "    hist = model.fit(X_train, y_train,\n",
    "              callbacks=callbacks_list,\n",
    "              validation_data=(X_test,y_test),\n",
    "              epochs=200,\n",
    "             verbose=0)\n",
    "\n",
    "    # load model\n",
    "    model = models.load_model(tempfilepath)\n",
    "    model_list.append(model)\n",
    "    \n",
    "    # evaluate the model\n",
    "    score = model.evaluate(X_test, y_test, verbose=0)\n",
    "    acc = score[1]*100\n",
    "    acc_list.append(acc)\n",
    "    \n",
    "    print(acc)\n",
    "\n",
    "i = acc_list.index(max(acc_list))\n",
    "best_model = model_list[i]\n",
    "best_model.save(filepath)\n",
    "\n",
    "# load model\n",
    "model = models.load_model(filepath)\n",
    "\n",
    "# evaluate the model\n",
    "score = model.evaluate(X_test, y_test, verbose=0)\n",
    "\n",
    "print(score[1]*100)"
   ]
  },
  {
   "cell_type": "code",
   "execution_count": null,
   "metadata": {
    "ExecuteTime": {
     "end_time": "2019-12-02T13:41:22.924574Z",
     "start_time": "2019-12-02T13:41:12.846914Z"
    },
    "code_folding": [
     0
    ]
   },
   "outputs": [],
   "source": [
    "# imports\n",
    "from tensorflow.keras import layers, models\n",
    "from keras.callbacks import ModelCheckpoint\n",
    "\n",
    "#NN architecture\n",
    "model = models.Sequential()\n",
    "model.add(layers.Dense(50, input_dim=13, activation='relu'))\n",
    "model.add(layers.Dense(50, activation='relu'))\n",
    "model.add(layers.Dense(5, activation='softmax'))\n",
    "\n",
    "#model compile\n",
    "model.compile(optimizer='adam',\n",
    "              loss='sparse_categorical_crossentropy',\n",
    "              metrics=['accuracy'])\n",
    "\n",
    "\n",
    "filepath=\"./model/temp.hdf5\"\n",
    "checkpoint = ModelCheckpoint(filepath, monitor='val_acc', verbose=1, save_best_only=True, mode='max')\n",
    "callbacks_list = [checkpoint]\n",
    "\n",
    "#train model\n",
    "hist = model.fit(X_train, y_train,\n",
    "          callbacks=callbacks_list,\n",
    "          validation_data=(X_test,y_test),\n",
    "          epochs=200,\n",
    "         verbose=1)\n",
    "\n",
    "# load model\n",
    "model = models.load_model(filepath)\n",
    "\n",
    "# evaluate the model\n",
    "score = model.evaluate(X_test, y_test, verbose=0)\n",
    "print(\"%s: %f%%\" % (model.metrics_names[1], score[1]*100))"
   ]
  },
  {
   "cell_type": "code",
   "execution_count": null,
   "metadata": {
    "ExecuteTime": {
     "end_time": "2019-12-02T13:42:12.213805Z",
     "start_time": "2019-12-02T13:42:11.886273Z"
    }
   },
   "outputs": [],
   "source": [
    "import matplotlib.pyplot as plt \n",
    "%matplotlib inline\n",
    "plt.plot(hist.history['acc'])\n",
    "plt.plot(hist.history['val_acc'])\n",
    "plt.title('model accuracy')\n",
    "plt.ylabel('accuracy')\n",
    "plt.xlabel('epoch')\n",
    "plt.legend(['train', 'val'], loc='upper left')\n",
    "plt.show()"
   ]
  },
  {
   "cell_type": "code",
   "execution_count": null,
   "metadata": {
    "ExecuteTime": {
     "end_time": "2019-12-02T13:42:39.703441Z",
     "start_time": "2019-12-02T13:42:39.411132Z"
    }
   },
   "outputs": [],
   "source": [
    "import matplotlib.pyplot as plt \n",
    "%matplotlib inline\n",
    "plt.plot(hist.history['loss'])\n",
    "plt.plot(hist.history['val_loss'])\n",
    "plt.title('model loss')\n",
    "plt.ylabel('loss')\n",
    "plt.xlabel('epoch')\n",
    "plt.legend(['train', 'val'], loc='upper left')\n",
    "plt.show()"
   ]
  }
 ],
 "metadata": {
  "kernelspec": {
   "display_name": "Python 3",
   "language": "python",
   "name": "python3"
  },
  "language_info": {
   "codemirror_mode": {
    "name": "ipython",
    "version": 3
   },
   "file_extension": ".py",
   "mimetype": "text/x-python",
   "name": "python",
   "nbconvert_exporter": "python",
   "pygments_lexer": "ipython3",
   "version": "3.7.4"
  }
 },
 "nbformat": 4,
 "nbformat_minor": 2
}
