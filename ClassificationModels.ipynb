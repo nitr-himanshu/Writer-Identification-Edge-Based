{
 "cells": [
  {
   "cell_type": "code",
   "execution_count": 1,
   "metadata": {
    "ExecuteTime": {
     "end_time": "2019-12-02T18:37:30.459127Z",
     "start_time": "2019-12-02T18:37:30.448131Z"
    }
   },
   "outputs": [],
   "source": [
    "#imports \n",
    "import numpy as np\n",
    "from sklearn.model_selection import train_test_split\n",
    "from sklearn.metrics import accuracy_score\n",
    "from sklearn import preprocessing\n",
    "%matplotlib inline"
   ]
  },
  {
   "cell_type": "code",
   "execution_count": 5,
   "metadata": {
    "ExecuteTime": {
     "end_time": "2019-12-02T18:50:22.968014Z",
     "start_time": "2019-12-02T18:50:22.804593Z"
    }
   },
   "outputs": [
    {
     "name": "stdout",
     "output_type": "stream",
     "text": [
      "(99727, 13)\n",
      "(99727,)\n"
     ]
    }
   ],
   "source": [
    "#reading data\n",
    "xdata = np.load(\"/media/himanshu/C2B05102B050FDFB/dataset/exp/npy/ebdf_all_a.npz\")\n",
    "X = xdata['data']\n",
    "y = xdata['target']\n",
    "le = preprocessing.LabelEncoder()\n",
    "y = le.fit_transform(y)\n",
    "X_train, X_test, y_train, y_test = train_test_split(X,y, test_size=0.2, random_state = 0)\n",
    "print(X.shape)\n",
    "print(y.shape)"
   ]
  },
  {
   "cell_type": "markdown",
   "metadata": {},
   "source": [
    "## Naive base classifier"
   ]
  },
  {
   "cell_type": "code",
   "execution_count": null,
   "metadata": {
    "ExecuteTime": {
     "end_time": "2019-12-02T18:37:32.144660Z",
     "start_time": "2019-12-02T18:37:31.928201Z"
    }
   },
   "outputs": [],
   "source": [
    "from sklearn.naive_bayes import MultinomialNB\n",
    "clf = MultinomialNB().fit(X_train, y_train)\n",
    "y_pred = clf.predict(X_test)\n",
    "print(accuracy_score(y_test, y_pred))"
   ]
  },
  {
   "cell_type": "markdown",
   "metadata": {},
   "source": [
    "\n",
    "## SVM"
   ]
  },
  {
   "cell_type": "code",
   "execution_count": null,
   "metadata": {
    "ExecuteTime": {
     "end_time": "2019-12-02T18:37:33.191461Z",
     "start_time": "2019-12-02T18:37:33.143491Z"
    }
   },
   "outputs": [],
   "source": [
    "from sklearn import svm\n",
    "clf = svm.SVC(gamma='scale')\n",
    "clf.fit(X_train, y_train)\n",
    "y_pred = clf.predict(X_test)\n",
    "print(accuracy_score(y_test, y_pred))"
   ]
  },
  {
   "cell_type": "markdown",
   "metadata": {
    "ExecuteTime": {
     "end_time": "2019-11-28T05:58:47.451602Z",
     "start_time": "2019-11-28T05:58:47.446603Z"
    }
   },
   "source": [
    "## KNN classifier"
   ]
  },
  {
   "cell_type": "code",
   "execution_count": null,
   "metadata": {
    "ExecuteTime": {
     "end_time": "2019-12-02T18:37:34.308597Z",
     "start_time": "2019-12-02T18:37:34.129126Z"
    },
    "code_folding": [
     1
    ]
   },
   "outputs": [],
   "source": [
    "from sklearn.neighbors import KNeighborsClassifier\n",
    "for i in range(1,11):\n",
    "    clf = KNeighborsClassifier(n_neighbors=i)\n",
    "    clf.fit(X_train, y_train)\n",
    "    y_pred = clf.predict(X_test)\n",
    "    print(accuracy_score(y_test, y_pred))"
   ]
  },
  {
   "cell_type": "markdown",
   "metadata": {},
   "source": [
    "## Neural network"
   ]
  },
  {
   "cell_type": "code",
   "execution_count": 3,
   "metadata": {
    "ExecuteTime": {
     "end_time": "2019-12-02T13:41:22.924574Z",
     "start_time": "2019-12-02T13:41:12.846914Z"
    },
    "code_folding": [
     0
    ]
   },
   "outputs": [
    {
     "name": "stdout",
     "output_type": "stream",
     "text": [
      "Model: \"sequential\"\n",
      "_________________________________________________________________\n",
      "Layer (type)                 Output Shape              Param #   \n",
      "=================================================================\n",
      "dense (Dense)                (None, 100)               1400      \n",
      "_________________________________________________________________\n",
      "dense_1 (Dense)              (None, 657)               66357     \n",
      "=================================================================\n",
      "Total params: 67,757\n",
      "Trainable params: 67,757\n",
      "Non-trainable params: 0\n",
      "_________________________________________________________________\n"
     ]
    }
   ],
   "source": [
    "# imports\n",
    "from tensorflow.keras import layers, models\n",
    "from tensorflow.keras.callbacks import ModelCheckpoint\n",
    "\n",
    "#NN architecture\n",
    "model = models.Sequential()\n",
    "model.add(layers.Dense(100, input_dim=13, activation='relu'))\n",
    "model.add(layers.Dense(657, activation='softmax'))\n",
    "\n",
    "#model compile\n",
    "model.compile(optimizer='adam',\n",
    "              loss='sparse_categorical_crossentropy',\n",
    "              metrics=['accuracy'])\n",
    "model.summary()"
   ]
  },
  {
   "cell_type": "code",
   "execution_count": null,
   "metadata": {
    "ExecuteTime": {
     "end_time": "2019-12-02T13:41:22.924574Z",
     "start_time": "2019-12-02T13:41:12.846914Z"
    },
    "code_folding": [
     0
    ]
   },
   "outputs": [
    {
     "name": "stdout",
     "output_type": "stream",
     "text": [
      "Train on 79781 samples, validate on 19946 samples\n",
      "Epoch 1/200\n",
      "79781/79781 [==============================] - 10s 122us/sample - loss: 5.2672 - accuracy: 0.0922 - val_loss: 4.7537 - val_accuracy: 0.1066\n",
      "Epoch 2/200\n",
      "79781/79781 [==============================] - 10s 122us/sample - loss: 4.5986 - accuracy: 0.1190 - val_loss: 4.6451 - val_accuracy: 0.1135\n",
      "Epoch 3/200\n",
      "79781/79781 [==============================] - 10s 126us/sample - loss: 4.4943 - accuracy: 0.1249 - val_loss: 4.5895 - val_accuracy: 0.1222\n",
      "Epoch 4/200\n",
      "79781/79781 [==============================] - 10s 127us/sample - loss: 4.4361 - accuracy: 0.1300 - val_loss: 4.5554 - val_accuracy: 0.1279\n",
      "Epoch 5/200\n",
      "79781/79781 [==============================] - 10s 127us/sample - loss: 4.3981 - accuracy: 0.1320 - val_loss: 4.5823 - val_accuracy: 0.1273\n",
      "Epoch 6/200\n",
      "79781/79781 [==============================] - 10s 121us/sample - loss: 4.3704 - accuracy: 0.1330 - val_loss: 4.5619 - val_accuracy: 0.1314\n",
      "Epoch 7/200\n",
      "79781/79781 [==============================] - 10s 131us/sample - loss: 4.3485 - accuracy: 0.1340 - val_loss: 4.6145 - val_accuracy: 0.1294\n",
      "Epoch 8/200\n",
      "79781/79781 [==============================] - 10s 130us/sample - loss: 4.3299 - accuracy: 0.1355 - val_loss: 4.6258 - val_accuracy: 0.1262\n",
      "Epoch 9/200\n",
      "79781/79781 [==============================] - 10s 131us/sample - loss: 4.3136 - accuracy: 0.1361 - val_loss: 4.6285 - val_accuracy: 0.1274\n",
      "Epoch 10/200\n",
      "79781/79781 [==============================] - 12s 157us/sample - loss: 4.3019 - accuracy: 0.1368 - val_loss: 4.6579 - val_accuracy: 0.1294\n",
      "Epoch 11/200\n",
      "79781/79781 [==============================] - 11s 136us/sample - loss: 4.2896 - accuracy: 0.1373 - val_loss: 4.6829 - val_accuracy: 0.1259\n",
      "Epoch 12/200\n",
      "79781/79781 [==============================] - 10s 128us/sample - loss: 4.2815 - accuracy: 0.1370 - val_loss: 4.7059 - val_accuracy: 0.1261\n",
      "Epoch 13/200\n",
      "79781/79781 [==============================] - 11s 136us/sample - loss: 4.2750 - accuracy: 0.1383 - val_loss: 4.6961 - val_accuracy: 0.1293\n",
      "Epoch 14/200\n",
      "63936/79781 [=======================>......] - ETA: 1s - loss: 4.2622 - accuracy: 0.1389"
     ]
    }
   ],
   "source": [
    "filepath=\"./temp.hdf5\"\n",
    "checkpoint = ModelCheckpoint(filepath, monitor='val_accuracy', verbose=1, save_best_only=True, mode='max')\n",
    "callbacks_list = [checkpoint]\n",
    "\n",
    "#train model\n",
    "hist = model.fit(X_train, y_train,\n",
    "          validation_data=(X_test,y_test),\n",
    "          epochs=200,\n",
    "         verbose=1)"
   ]
  },
  {
   "cell_type": "code",
   "execution_count": null,
   "metadata": {
    "ExecuteTime": {
     "end_time": "2019-12-02T13:42:12.213805Z",
     "start_time": "2019-12-02T13:42:11.886273Z"
    }
   },
   "outputs": [],
   "source": [
    "import matplotlib.pyplot as plt \n",
    "%matplotlib inline\n",
    "plt.plot(hist.history['accuracy'])\n",
    "plt.plot(hist.history['val_accuracy'])\n",
    "plt.title('model accuracy')\n",
    "plt.ylabel('accuracy')\n",
    "plt.xlabel('epoch')\n",
    "plt.legend(['train', 'val'], loc='upper left')\n",
    "plt.show()"
   ]
  },
  {
   "cell_type": "code",
   "execution_count": null,
   "metadata": {
    "ExecuteTime": {
     "end_time": "2019-12-02T13:42:39.703441Z",
     "start_time": "2019-12-02T13:42:39.411132Z"
    }
   },
   "outputs": [],
   "source": [
    "import matplotlib.pyplot as plt \n",
    "%matplotlib inline\n",
    "plt.plot(hist.history['loss'])\n",
    "plt.plot(hist.history['val_loss'])\n",
    "plt.title('model loss')\n",
    "plt.ylabel('loss')\n",
    "plt.xlabel('epoch')\n",
    "plt.legend(['train', 'val'], loc='upper left')\n",
    "plt.show()"
   ]
  }
 ],
 "metadata": {
  "kernelspec": {
   "display_name": "Python 3",
   "language": "python",
   "name": "python3"
  },
  "language_info": {
   "codemirror_mode": {
    "name": "ipython",
    "version": 3
   },
   "file_extension": ".py",
   "mimetype": "text/x-python",
   "name": "python",
   "nbconvert_exporter": "python",
   "pygments_lexer": "ipython3",
   "version": "3.7.4"
  }
 },
 "nbformat": 4,
 "nbformat_minor": 4
}
