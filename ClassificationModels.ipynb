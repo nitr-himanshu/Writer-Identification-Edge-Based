{
 "cells": [
  {
   "cell_type": "code",
   "execution_count": 1,
   "metadata": {
    "ExecuteTime": {
     "end_time": "2019-11-20T19:46:58.767762Z",
     "start_time": "2019-11-20T19:46:41.179396Z"
    }
   },
   "outputs": [],
   "source": [
    "#imports \n",
    "import numpy as np\n",
    "import os\n",
    "from sklearn.model_selection import train_test_split\n",
    "from collections import Counter\n",
    "from sklearn.metrics import classification_report\n",
    "from sklearn.metrics import accuracy_score\n",
    "%matplotlib inline"
   ]
  },
  {
   "cell_type": "code",
   "execution_count": 38,
   "metadata": {
    "ExecuteTime": {
     "end_time": "2019-11-20T19:51:27.762452Z",
     "start_time": "2019-11-20T19:51:27.740463Z"
    }
   },
   "outputs": [],
   "source": [
    "#reading data\n",
    "X1 = np.load('./npy/data_80_300_300_4.npy')\n",
    "X2 = np.load('./npy/data_80_300_300_5.npy')\n",
    "X3 = np.load('./npy/data_80_300_300_6.npy')\n",
    "X = np.hstack((X1,X2,X3))\n",
    "y = np.load('./npy/target.npy')\n",
    "X_train, X_test, y_train, y_test = train_test_split(X,y, test_size=0.2, random_state = 0)"
   ]
  },
  {
   "cell_type": "code",
   "execution_count": 39,
   "metadata": {
    "ExecuteTime": {
     "end_time": "2019-11-20T19:51:27.987390Z",
     "start_time": "2019-11-20T19:51:27.953413Z"
    }
   },
   "outputs": [
    {
     "name": "stdout",
     "output_type": "stream",
     "text": [
      "              precision    recall  f1-score   support\n",
      "\n",
      "           0       0.99      0.99      0.99       134\n",
      "           1       0.66      0.61      0.63       139\n",
      "           2       0.69      0.85      0.76       121\n",
      "           3       0.64      0.60      0.62       126\n",
      "           4       0.61      0.57      0.59       135\n",
      "\n",
      "    accuracy                           0.72       655\n",
      "   macro avg       0.72      0.72      0.72       655\n",
      "weighted avg       0.72      0.72      0.72       655\n",
      "\n",
      "0.7206106870229008\n"
     ]
    }
   ],
   "source": [
    "from sklearn.naive_bayes import MultinomialNB\n",
    "\n",
    "clf = MultinomialNB().fit(X_train, y_train)\n",
    "y_pred = clf.predict(X_test)\n",
    "print(classification_report(y_test, y_pred))\n",
    "print(accuracy_score(y_test, y_pred))"
   ]
  },
  {
   "cell_type": "code",
   "execution_count": 40,
   "metadata": {
    "ExecuteTime": {
     "end_time": "2019-11-20T19:51:28.846857Z",
     "start_time": "2019-11-20T19:51:28.107316Z"
    }
   },
   "outputs": [
    {
     "name": "stdout",
     "output_type": "stream",
     "text": [
      "              precision    recall  f1-score   support\n",
      "\n",
      "           0       0.99      0.99      0.99       134\n",
      "           1       0.76      0.74      0.75       139\n",
      "           2       0.77      0.85      0.81       121\n",
      "           3       0.74      0.79      0.76       126\n",
      "           4       0.73      0.61      0.67       135\n",
      "\n",
      "    accuracy                           0.80       655\n",
      "   macro avg       0.79      0.80      0.80       655\n",
      "weighted avg       0.80      0.80      0.79       655\n",
      "\n",
      "0.7969465648854962\n"
     ]
    }
   ],
   "source": [
    "from sklearn import svm\n",
    "\n",
    "clf = svm.SVC(gamma='scale')\n",
    "clf.fit(X_train, y_train)\n",
    "y_pred = clf.predict(X_test)\n",
    "print(classification_report(y_test, y_pred))\n",
    "print(accuracy_score(y_test, y_pred))"
   ]
  },
  {
   "cell_type": "code",
   "execution_count": 46,
   "metadata": {
    "ExecuteTime": {
     "end_time": "2019-11-20T19:52:33.249209Z",
     "start_time": "2019-11-20T19:52:33.099304Z"
    }
   },
   "outputs": [
    {
     "name": "stdout",
     "output_type": "stream",
     "text": [
      "              precision    recall  f1-score   support\n",
      "\n",
      "           0       0.99      0.99      0.99       134\n",
      "           1       0.71      0.73      0.72       139\n",
      "           2       0.78      0.83      0.80       121\n",
      "           3       0.65      0.74      0.69       126\n",
      "           4       0.66      0.51      0.58       135\n",
      "\n",
      "    accuracy                           0.76       655\n",
      "   macro avg       0.76      0.76      0.76       655\n",
      "weighted avg       0.76      0.76      0.76       655\n",
      "\n",
      "0.7587786259541984\n"
     ]
    }
   ],
   "source": [
    "from sklearn.neighbors import KNeighborsClassifier\n",
    "clf = KNeighborsClassifier(n_neighbors=7)\n",
    "clf.fit(X_train, y_train)\n",
    "y_pred = clf.predict(X_test)\n",
    "print(classification_report(y_test, y_pred))\n",
    "print(accuracy_score(y_test, y_pred))"
   ]
  },
  {
   "cell_type": "code",
   "execution_count": 42,
   "metadata": {
    "ExecuteTime": {
     "end_time": "2019-11-20T19:51:29.498453Z",
     "start_time": "2019-11-20T19:51:29.044734Z"
    }
   },
   "outputs": [
    {
     "name": "stdout",
     "output_type": "stream",
     "text": [
      "              precision    recall  f1-score   support\n",
      "\n",
      "           0       0.98      0.98      0.98       134\n",
      "           1       0.54      0.43      0.48       139\n",
      "           2       0.55      0.90      0.68       121\n",
      "           3       0.49      0.72      0.59       126\n",
      "           4       0.81      0.16      0.27       135\n",
      "\n",
      "    accuracy                           0.63       655\n",
      "   macro avg       0.68      0.64      0.60       655\n",
      "weighted avg       0.68      0.63      0.60       655\n",
      "\n",
      "0.6305343511450382\n"
     ]
    }
   ],
   "source": [
    "from sklearn.ensemble import RandomForestClassifier\n",
    "\n",
    "clf = RandomForestClassifier(n_estimators=100, max_depth=2,random_state=0)\n",
    "clf.fit(X_train, y_train)\n",
    "y_pred = clf.predict(X_test)\n",
    "print(classification_report(y_test, y_pred))\n",
    "print(accuracy_score(y_test, y_pred))"
   ]
  }
 ],
 "metadata": {
  "kernelspec": {
   "display_name": "Python 3",
   "language": "python",
   "name": "python3"
  },
  "language_info": {
   "codemirror_mode": {
    "name": "ipython",
    "version": 3
   },
   "file_extension": ".py",
   "mimetype": "text/x-python",
   "name": "python",
   "nbconvert_exporter": "python",
   "pygments_lexer": "ipython3",
   "version": "3.7.3"
  }
 },
 "nbformat": 4,
 "nbformat_minor": 2
}
